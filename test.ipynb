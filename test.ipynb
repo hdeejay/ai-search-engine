{
 "cells": [
  {
   "cell_type": "code",
   "execution_count": null,
   "metadata": {},
   "outputs": [],
   "source": [
    "import requests\n",
    "import json\n",
    "\n",
    "# Prepare the payload\n",
    "payload = {\n",
    "    \"conversationId\": \"GEqy1XdMOeWyp4yunMSUK\",\n",
    "    \"messages\": [\n",
    "        {\n",
    "            \"role\": \"ai\",\n",
    "            \"content\": \"Hello! How can I help you today?\"\n",
    "        },\n",
    "        {\n",
    "            \"role\": \"user\",\n",
    "            \"content\": \"hi\"\n",
    "        },\n",
    "        {\n",
    "            \"role\": \"ai\",\n",
    "            \"content\": \"Nice to meet you. What can I help you with?\"\n",
    "        }\n",
    "    ],\n",
    "    \"message\": \"hi\"\n",
    "}\n",
    "# Make the POST request\n",
    "response = requests.post(\n",
    "    \"http://localhost:3000/api/chat\",\n",
    "    json=payload,\n",
    "    headers={\n",
    "        \"Content-Type\": \"application/json\"\n",
    "    }\n",
    ")\n",
    "\n",
    "# Print response\n",
    "print(response.status_code)\n",
    "print(response.text)"
   ]
  },
  {
   "cell_type": "markdown",
   "metadata": {},
   "source": []
  }
 ],
 "metadata": {
  "language_info": {
   "name": "python"
  }
 },
 "nbformat": 4,
 "nbformat_minor": 2
}
